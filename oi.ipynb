
temp_fah = float(input("Digite a temperatura em fahrenheit: "))

while temp_fah != 0:
    temp_celsius = 5/9 * (temp_fah - 32)
    print(f"{temp_fah} equivale a {temp_celsius}")
    break
