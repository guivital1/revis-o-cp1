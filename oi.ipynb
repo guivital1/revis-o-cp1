{
 "cells": [
  {
   "cell_type": "code",
   "execution_count": null,
   "metadata": {},
   "outputs": [],
   "source": [
    "lista_numeros = [100,200,300,400,500]\n",
    "print(lista_numeros)\n",
    "soma = 0\n",
    "for numero in lista_numeros:\n",
    "\n",
    "    soma += numero\n",
    "\n",
    "    print(soma)\n",
    "\n",
    "media = soma/len(lista_numeros)"
   ]
  },
  {
   "cell_type": "code",
   "execution_count": null,
   "metadata": {},
   "outputs": [],
   "source": [
    "lista_carros = ['Volvo', 'Chevrolet', 'BMW', 'BYD', \"Toyota\"]\n",
    "print(lista_carros)\n",
    "\n",
    "for k in lista_carros:\n",
    "    print(k)"
   ]
  },
  {
   "cell_type": "code",
   "execution_count": 23,
   "metadata": {},
   "outputs": [
    {
     "name": "stdout",
     "output_type": "stream",
     "text": [
      "1\n"
     ]
    },
    {
     "ename": "TypeError",
     "evalue": "'int' object is not iterable",
     "output_type": "error",
     "traceback": [
      "\u001b[1;31m---------------------------------------------------------------------------\u001b[0m",
      "\u001b[1;31mTypeError\u001b[0m                                 Traceback (most recent call last)",
      "Cell \u001b[1;32mIn[23], line 6\u001b[0m\n\u001b[0;32m      4\u001b[0m idade \u001b[38;5;241m=\u001b[39m \u001b[38;5;28mint\u001b[39m(\u001b[38;5;28minput\u001b[39m(\u001b[38;5;124m\"\u001b[39m\u001b[38;5;124mDigite sua idade: \u001b[39m\u001b[38;5;124m\"\u001b[39m))\n\u001b[0;32m      5\u001b[0m \u001b[38;5;28mprint\u001b[39m(idade)\n\u001b[1;32m----> 6\u001b[0m soma \u001b[38;5;241m=\u001b[39m \u001b[38;5;28;43msum\u001b[39;49m\u001b[43m(\u001b[49m\u001b[43mi\u001b[49m\u001b[43m)\u001b[49m\n\u001b[0;32m      7\u001b[0m \u001b[38;5;28mprint\u001b[39m(soma)\n",
      "\u001b[1;31mTypeError\u001b[0m: 'int' object is not iterable"
     ]
    }
   ],
   "source": [
    "i = 0\n",
    "\n",
    "while i < 5:\n",
    "    idade = int(input(\"Digite sua idade: \"))\n",
    "    print(idade)\n",
    "    soma = sum(i)\n"
   ]
  },
  {
   "cell_type": "code",
   "execution_count": null,
   "metadata": {},
   "outputs": [],
   "source": [
    "fah = 32\n",
    "\n",
    "\n",
    "while fah < 100:\n",
    "    temperatura = float(input(\"Qual eh a temperatura?: \"))\n",
    " \n",
    "    print(fah)\n",
    "\n",
    "convesao = (fah - 32)* 5/9"
   ]
  },
  {
   "cell_type": "code",
   "execution_count": 15,
   "metadata": {},
   "outputs": [
    {
     "name": "stdout",
     "output_type": "stream",
     "text": [
      "1\n",
      "2\n",
      "3\n",
      "4\n",
      "5\n"
     ]
    }
   ],
   "source": [
    "i = 1\n",
    "while i < 6:\n",
    "  a = float(input(\"Digite: \"))\n",
    "  print(i)\n",
    "  i += 1"
   ]
  },
  {
   "cell_type": "code",
   "execution_count": 26,
   "metadata": {},
   "outputs": [
    {
     "name": "stdout",
     "output_type": "stream",
     "text": [
      "0\n",
      "1\n",
      "2\n",
      "3\n",
      "4\n",
      "5\n",
      "x é igual a 6\n"
     ]
    }
   ],
   "source": [
    "x = 0\n",
    "while x < 10:\n",
    "    print(x)\n",
    "    x += 1\n",
    "    if x == 6:\n",
    "        print(\"x é igual a 6\")\n",
    "        break\n",
    "else:\n",
    "    print(\"fim while\")"
   ]
  },
  {
   "cell_type": "code",
   "execution_count": 21,
   "metadata": {},
   "outputs": [
    {
     "name": "stdout",
     "output_type": "stream",
     "text": [
      "50.0 equivale a 10.0\n"
     ]
    }
   ],
   "source": [
    "# Exercicio 1 - usando while\n",
    "\n",
    "temp_fah = float(input(\"Digite a temperatura em fahrenheit: \"))\n",
    "\n",
    "while temp_fah != 0:\n",
    "    temp_celsius = 5/9 * (temp_fah - 32)\n",
    "    print(f\"{temp_fah} equivale a {temp_celsius}\")\n",
    "    break\n",
    "\n",
    "\n",
    "\n",
    "    \n"
   ]
  },
  {
   "cell_type": "code",
   "execution_count": 17,
   "metadata": {},
   "outputs": [
    {
     "name": "stdout",
     "output_type": "stream",
     "text": [
      "55.0 equivale a 12.777777777777779\n",
      "54.0 equivale a 12.222222222222223\n"
     ]
    }
   ],
   "source": [
    "num_temperaturas = int(input(\"Digite a quantidade de temperaturas a serem transformadas: \"))\n",
    "\n",
    "for i in range(num_temperaturas):\n",
    "    temp_fahre = float(input(f\"Digite uma temperatura em fahrenheit {i+1}\"))\n",
    "    temp_celsius = 5/9 * (temp_fahre - 32)\n",
    "    print(f\"{temp_fahre} equivale a {temp_celsius}\")"
   ]
  },
  {
   "cell_type": "code",
   "execution_count": 3,
   "metadata": {},
   "outputs": [
    {
     "name": "stdout",
     "output_type": "stream",
     "text": [
      "50.0 equivale a 10.0\n",
      "60.0 equivale a 15.555555555555557\n",
      "70.0 equivale a 21.11111111111111\n",
      "80.0 equivale a 26.666666666666668\n",
      "[10.0, 15.555555555555557, 21.11111111111111, 26.666666666666668]\n",
      "A soma total é 73.33333333333334 e a média é 18.333333333333336\n"
     ]
    }
   ],
   "source": [
    "num_temperaturas = int(input(\"Digite a quantidade de temperaturas a serem transformadas: \"))\n",
    "\n",
    "valores_celsius = []\n",
    "\n",
    "for i in range(num_temperaturas):\n",
    "    temp_fahre = float(input(f\"Digite uma temperatura em fahrenheit {i+1}\"))\n",
    "    temp_celsius = 5/9 * (temp_fahre - 32)\n",
    "    print(f\"{temp_fahre} equivale a {temp_celsius}\")\n",
    "    valores_celsius.append(temp_celsius)\n",
    "\n",
    "print(valores_celsius)\n",
    "\n",
    "somatemperaturas = sum(valores_celsius)\n",
    "\n",
    "mediatemperaturas = somatemperaturas/len(valores_celsius)\n",
    "\n",
    "print (f\"A soma total é {somatemperaturas} e a média é {mediatemperaturas}\")"
   ]
  },
  {
   "cell_type": "code",
   "execution_count": 10,
   "metadata": {},
   "outputs": [
    {
     "name": "stdout",
     "output_type": "stream",
     "text": [
      "60\n"
     ]
    }
   ],
   "source": [
    "lista = [10,20,30]\n",
    "\n",
    "\n",
    "\n",
    "for i in lista:\n",
    "    somatemperaturas = sum(lista)\n",
    "print(somatemperaturas)"
   ]
  },
  {
   "cell_type": "code",
   "execution_count": 18,
   "metadata": {},
   "outputs": [
    {
     "name": "stdout",
     "output_type": "stream",
     "text": [
      "Temperatura em graus é 10.0\n",
      "Temperatura em graus é 4.444444444444445\n",
      "Temperatura em graus é -6.666666666666667\n",
      "Temperatura em graus é -1.1111111111111112\n",
      "Temperatura em graus é 4.444444444444445\n",
      "Temperatura em graus é 4.444444444444445\n",
      "Temperatura em graus é 206.66666666666669\n",
      "Temperatura em graus é -15.555555555555557\n",
      "Temperatura em graus é -17.77777777777778\n",
      "Temperatura em graus é -15.555555555555557\n",
      "Temperatura em graus é 22448.88888888889\n",
      "Temperatura em graus é -15.555555555555557\n",
      "Temperatura em graus é -15.555555555555557\n",
      "Temperatura em graus é -15.555555555555557\n",
      "Temperatura em graus é -15.555555555555557\n",
      "Temperatura em graus é -15.555555555555557\n",
      "Temperatura em graus é -15.555555555555557\n",
      "Temperatura em graus é 4.444444444444445\n",
      "Temperatura em graus é -15.555555555555557\n",
      "Temperatura em graus é 4.444444444444445\n",
      "Temperatura em graus é 4.444444444444445\n",
      "Temperatura em graus é 4.444444444444445\n",
      "Temperatura em graus é -15.555555555555557\n",
      "Temperatura em graus é -15.555555555555557\n",
      "Temperatura em graus é 4.444444444444445\n",
      "Temperatura em graus é -15.555555555555557\n",
      "Você não digitou um número\n",
      "Encerra o loop\n"
     ]
    }
   ],
   "source": [
    "# while true break try except\n",
    "\n",
    "while True:\n",
    "    entrada = input(\"Digite a temperatura em fahrenheit: \")\n",
    "\n",
    "    if entrada.lower() == 'sair':\n",
    "        print(\"Encerra o loop\")\n",
    "        break\n",
    "    try:\n",
    "        temp_fah = float(entrada)\n",
    "        temp_celsius = 5/9 * (temp_fah - 32)\n",
    "        print(f\"Temperatura em graus é {temp_celsius}\")\n",
    "    except:\n",
    "        print(\"Você não digitou um número \")"
   ]
  },
  {
   "cell_type": "code",
   "execution_count": 20,
   "metadata": {},
   "outputs": [
    {
     "name": "stdout",
     "output_type": "stream",
     "text": [
      "Temperatura em graus é -12.222222222222223\n",
      "Temperatura em graus é -6.666666666666667\n",
      "Temperatura em graus é -16.11111111111111\n",
      "Temperatura em graus é 4.444444444444445\n",
      "Temperatura em graus é 10.0\n",
      "Temperatura em graus é 15.555555555555557\n",
      "Temperatura em graus é 21.11111111111111\n",
      "Temperatura em graus é 26.666666666666668\n",
      "Temperatura em graus é 32.22222222222222\n",
      "Encerra o loop\n",
      "A Soma é[75.0] e a média é 8.333333333333334\n"
     ]
    }
   ],
   "source": [
    "lista_temp = []\n",
    "while True:\n",
    "    entrada = input(\"Digite a temperatura em fahrenheit: \")\n",
    "\n",
    "    if entrada.lower() == 'sair':\n",
    "        print(\"Encerra o loop\")\n",
    "        break\n",
    "    try:\n",
    "        temp_fah = float(entrada)\n",
    "        temp_celsius = 5/9 * (temp_fah - 32)\n",
    "        print(f\"Temperatura em graus é {temp_celsius}\")\n",
    "        lista_temp.append(temp_celsius)\n",
    "    except:\n",
    "        print(\"Você não digitou um número \")\n",
    "\n",
    "soma = sum(lista_temp)\n",
    "\n",
    "media = soma / len(lista_temp)\n",
    "\n",
    "print(f\"A Soma é[{soma}] e a média é {media}\")"
   ]
  },
  {
   "cell_type": "code",
   "execution_count": null,
   "metadata": {},
   "outputs": [],
   "source": []
  },
  {
   "cell_type": "code",
   "execution_count": 32,
   "metadata": {},
   "outputs": [
    {
     "name": "stdout",
     "output_type": "stream",
     "text": [
      "O valor total da compra é 164.0 e a média da compra é 16.4\n"
     ]
    }
   ],
   "source": [
    "lista_valores = []\n",
    "\n",
    "for i in range(10):\n",
    "    valores = float(input(\"Digite aqu os valores de produtos: \"))\n",
    "    lista_valores.append(valores)\n",
    "\n",
    "valortotal = sum(lista_valores)\n",
    "\n",
    "media = valortotal/len(lista_valores)\n",
    "\n",
    "print(f\"O valor total da compra é {valortotal} e a média da compra é {media}\")\n"
   ]
  },
  {
   "cell_type": "code",
   "execution_count": 48,
   "metadata": {},
   "outputs": [
    {
     "name": "stdout",
     "output_type": "stream",
     "text": [
      "['a', 1]\n",
      "['a', 2]\n",
      "['d', 3]\n",
      "['d', 4]\n",
      "['g', 5]\n",
      "Os nomes são ['a', 'a', 'd', 'd', 'g'] e os cpfs são [1, 2, 3, 4, 5]\n"
     ]
    }
   ],
   "source": [
    "lista_nomes = []\n",
    "lista_cpfs = []\n",
    "\n",
    " \n",
    "for i in range(5):\n",
    "    nome = str(input(\"Digite aqui 5 nomes: \"))\n",
    "    cpf = int(input(\"Digite aqui os cpfs de cada nome: \"))\n",
    "    lista_nomes.append(nome)\n",
    "    lista_cpfs.append(cpf)\n",
    "    lista_nomecpf = ([nome, cpf])\n",
    "\n",
    "    print(lista_nomecpf)\n",
    "\n",
    "\n",
    "print(f\"Os nomes são {lista_nomes} e os cpfs são {lista_cpfs}\")\n"
   ]
  },
  {
   "cell_type": "code",
   "execution_count": 37,
   "metadata": {},
   "outputs": [
    {
     "ename": "TypeError",
     "evalue": "unhashable type: 'set'",
     "output_type": "error",
     "traceback": [
      "\u001b[1;31m---------------------------------------------------------------------------\u001b[0m",
      "\u001b[1;31mTypeError\u001b[0m                                 Traceback (most recent call last)",
      "Cell \u001b[1;32mIn[37], line 6\u001b[0m\n\u001b[0;32m      4\u001b[0m     nome \u001b[38;5;241m=\u001b[39m \u001b[38;5;28minput\u001b[39m(\u001b[38;5;124m\"\u001b[39m\u001b[38;5;124mDigite aqui 5 nomes: \u001b[39m\u001b[38;5;124m\"\u001b[39m)\n\u001b[0;32m      5\u001b[0m     cpf \u001b[38;5;241m=\u001b[39m \u001b[38;5;28minput\u001b[39m(\u001b[38;5;124m\"\u001b[39m\u001b[38;5;124mDigite aqui os cpfs de cada nome: \u001b[39m\u001b[38;5;124m\"\u001b[39m)  \u001b[38;5;66;03m# Use input como string para CPF\u001b[39;00m\n\u001b[1;32m----> 6\u001b[0m     lista_conjunta\u001b[38;5;241m.\u001b[39mappend({{\u001b[38;5;124m\"\u001b[39m\u001b[38;5;124mnome\u001b[39m\u001b[38;5;124m\"\u001b[39m}: nome, \u001b[38;5;124m\"\u001b[39m\u001b[38;5;124mcpf\u001b[39m\u001b[38;5;124m\"\u001b[39m: cpf})  \u001b[38;5;66;03m# Adiciona um dicionário à lista\u001b[39;00m\n\u001b[0;32m      8\u001b[0m \u001b[38;5;28mprint\u001b[39m(lista_conjunta)\n",
      "\u001b[1;31mTypeError\u001b[0m: unhashable type: 'set'"
     ]
    }
   ],
   "source": [
    "lista_conjunta = []\n",
    "\n",
    "for i in range(5):\n",
    "    nome = input(\"Digite aqui 5 nomes: \")\n",
    "    cpf = input(\"Digite aqui os cpfs de cada nome: \")  # Use input como string para CPF\n",
    "    lista_conjunta.append({\"nome\": nome, \"cpf\": cpf})  # Adiciona um dicionário à lista\n",
    "\n",
    "print(lista_conjunta)\n"
   ]
  },
  {
   "cell_type": "code",
   "execution_count": 40,
   "metadata": {},
   "outputs": [
    {
     "ename": "NameError",
     "evalue": "name 'cpf4' is not defined",
     "output_type": "error",
     "traceback": [
      "\u001b[1;31m---------------------------------------------------------------------------\u001b[0m",
      "\u001b[1;31mNameError\u001b[0m                                 Traceback (most recent call last)",
      "Cell \u001b[1;32mIn[40], line 17\u001b[0m\n\u001b[0;32m     15\u001b[0m \u001b[38;5;66;03m# Combina os nomes e CPFs na lista conjunta\u001b[39;00m\n\u001b[0;32m     16\u001b[0m \u001b[38;5;28;01mfor\u001b[39;00m i \u001b[38;5;129;01min\u001b[39;00m \u001b[38;5;28mrange\u001b[39m(\u001b[38;5;28mlen\u001b[39m(lista_nomes)):\n\u001b[1;32m---> 17\u001b[0m     lista_conjunta\u001b[38;5;241m.\u001b[39mappend({nome: lista_nomes[i], \u001b[43mcpf4\u001b[49m: lista_cpfs[i]})\n\u001b[0;32m     19\u001b[0m \u001b[38;5;66;03m# Exibe a lista conjunta\u001b[39;00m\n\u001b[0;32m     20\u001b[0m \u001b[38;5;28mprint\u001b[39m(lista_conjunta)\n",
      "\u001b[1;31mNameError\u001b[0m: name 'cpf4' is not defined"
     ]
    }
   ],
   "source": [
    "# Inicializa as listas para armazenar nomes e CPFs\n",
    "lista_nomes = []\n",
    "lista_cpfs = []\n",
    "\n",
    "# Loop para coletar 5 nomes e CPFs\n",
    "for i in range(5):\n",
    "    nome = input(\"Digite aqui 5 nomes: \")  # Pede o nome\n",
    "    cpf = input(\"Digite aqui os cpfs de cada nome: \")  # Pede o CPF\n",
    "    lista_nomes.append(nome)  # Adiciona o nome à lista de nomes\n",
    "    lista_cpfs.append(cpf)  # Adiciona o CPF à lista de CPFs\n",
    "\n",
    "# Inicializa a lista conjunta\n",
    "lista_conjunta = []\n",
    "\n",
    "# Combina os nomes e CPFs na lista conjunta\n",
    "for i in range(len(lista_nomes)):\n",
    "    lista_conjunta.append({\"nome\": lista_nomes[i], \"cpf\": lista_cpfs[i]})\n",
    "\n",
    "# Exibe a lista conjunta\n",
    "print(lista_conjunta)\n"
   ]
  },
  {
   "cell_type": "code",
   "execution_count": 49,
   "metadata": {},
   "outputs": [
    {
     "name": "stdout",
     "output_type": "stream",
     "text": [
      "Você digitou uma marca que interrompe a coleta. Encerrando...\n",
      "Marcas coletadas: ['ferrari', 'mitsubishi', 'mercedez', 'porsche']\n"
     ]
    }
   ],
   "source": [
    "# Inicializa a lista para armazenar as marcas de carros\n",
    "lista_marcas = []\n",
    "\n",
    "# Contador para o número de marcas solicitadas\n",
    "contador = 0\n",
    "\n",
    "# Loop enquanto o contador for menor que 10\n",
    "while contador < 10:\n",
    "    marca = input(\"Digite uma marca de carro: \")  # Solicita a marca\n",
    "\n",
    "    # Verifica se a marca é \"Volvo\" ou \"BMW\"\n",
    "    if marca.lower() == \"volvo\" or marca.lower() == \"bmw\":\n",
    "        print(\"Você digitou uma marca que interrompe a coleta. Encerrando...\")\n",
    "        break  # Interrompe o loop se a marca for Volvo ou BMW\n",
    "\n",
    "    lista_marcas.append(marca)  # Adiciona a marca à lista\n",
    "    contador += 1  # Incrementa o contador\n",
    "\n",
    "# Exibe as marcas coletadas\n",
    "print(\"Marcas coletadas:\", lista_marcas)\n"
   ]
  },
  {
   "cell_type": "code",
   "execution_count": null,
   "metadata": {},
   "outputs": [],
   "source": []
  }
 ],
 "metadata": {
  "kernelspec": {
   "display_name": "Python 3",
   "language": "python",
   "name": "python3"
  },
  "language_info": {
   "codemirror_mode": {
    "name": "ipython",
    "version": 3
   },
   "file_extension": ".py",
   "mimetype": "text/x-python",
   "name": "python",
   "nbconvert_exporter": "python",
   "pygments_lexer": "ipython3",
   "version": "3.12.3"
  }
 },
 "nbformat": 4,
 "nbformat_minor": 2
}
