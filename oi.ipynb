{
 "cells": [
  {
   "cell_type": "code",
   "execution_count": null,
   "metadata": {},
   "outputs": [],
   "source": [
    "lista_numeros = [100,200,300,400,500]\n",
    "print(lista_numeros)\n",
    "soma = 0\n",
    "for numero in lista_numeros:\n",
    "\n",
    "    soma += numero\n",
    "\n",
    "    print(soma)\n",
    "\n",
    "media = soma/len(lista_numeros)"
   ]
  },
  {
   "cell_type": "code",
   "execution_count": null,
   "metadata": {},
   "outputs": [],
   "source": [
    "lista_carros = ['Volvo', 'Chevrolet', 'BMW', 'BYD', \"Toyota\"]\n",
    "print(lista_carros)\n",
    "\n",
    "for k in lista_carros:\n",
    "    print(k)"
   ]
  },
  {
   "cell_type": "code",
   "execution_count": null,
   "metadata": {},
   "outputs": [],
   "source": [
    "i = 0\n",
    "\n",
    "while i < 5:\n",
    "    idade = int(input(\"Digite sua idade: \"))\n",
    "    print(idade)\n",
    "    i += 1\n"
   ]
  },
  {
   "cell_type": "code",
   "execution_count": null,
   "metadata": {},
   "outputs": [],
   "source": [
    "fah = 32\n",
    "\n",
    "\n",
    "while fah < 100:\n",
    "    temperatura = float(input(\"Qual eh a temperatura?: \"))\n",
    " \n",
    "    print(fah)\n",
    "\n",
    "convesao = (fah - 32)* 5/9"
   ]
  },
  {
   "cell_type": "code",
   "execution_count": 15,
   "metadata": {},
   "outputs": [
    {
     "name": "stdout",
     "output_type": "stream",
     "text": [
      "1\n",
      "2\n",
      "3\n",
      "4\n",
      "5\n"
     ]
    }
   ],
   "source": [
    "i = 1\n",
    "while i < 6:\n",
    "  a = float(input(\"Digite: \"))\n",
    "  print(i)\n",
    "  i += 1"
   ]
  },
  {
   "cell_type": "code",
   "execution_count": null,
   "metadata": {},
   "outputs": [],
   "source": [
    "x = 0\n",
    "while x < 10:\n",
    "    print(x)\n",
    "    x += 1\n",
    "    if x == 6:\n",
    "        print(\"x é igual a 6\")\n",
    "        break\n",
    "else:\n",
    "    print(\"fim while\")"
   ]
  },
  {
   "cell_type": "code",
   "execution_count": 16,
   "metadata": {},
   "outputs": [
    {
     "name": "stdout",
     "output_type": "stream",
     "text": [
      "55.0 equivale a 12.777777777777779\n"
     ]
    }
   ],
   "source": [
    "# Exercicio 1 - usando while\n",
    "\n",
    "temp_fah = float(input(\"Digite a temperatura em fahrenheit: \"))\n",
    "\n",
    "while temp_fah != 0:\n",
    "    temp_celsius = 5/9 * (temp_fah - 32)\n",
    "    print(f\"{temp_fah} equivale a {temp_celsius}\")\n",
    "    break\n",
    "\n",
    "\n",
    "\n",
    "    \n"
   ]
  },
  {
   "cell_type": "code",
   "execution_count": 17,
   "metadata": {},
   "outputs": [
    {
     "name": "stdout",
     "output_type": "stream",
     "text": [
      "55.0 equivale a 12.777777777777779\n",
      "54.0 equivale a 12.222222222222223\n"
     ]
    }
   ],
   "source": [
    "num_temperaturas = int(input(\"Digite a quantidade de temperaturas a serem transformadas: \"))\n",
    "\n",
    "for i in range(num_temperaturas):\n",
    "    temp_fahre = float(input(f\"Digite uma temperatura em fahrenheit {i+1}\"))\n",
    "    temp_celsius = 5/9 * (temp_fahre - 32)\n",
    "    print(f\"{temp_fahre} equivale a {temp_celsius}\")"
   ]
  }
 ],
 "metadata": {
  "kernelspec": {
   "display_name": "Python 3",
   "language": "python",
   "name": "python3"
  },
  "language_info": {
   "codemirror_mode": {
    "name": "ipython",
    "version": 3
   },
   "file_extension": ".py",
   "mimetype": "text/x-python",
   "name": "python",
   "nbconvert_exporter": "python",
   "pygments_lexer": "ipython3",
   "version": "3.12.3"
  }
 },
 "nbformat": 4,
 "nbformat_minor": 2
}
