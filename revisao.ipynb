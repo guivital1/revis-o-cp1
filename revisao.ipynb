{
 "cells": [
  {
   "cell_type": "code",
   "execution_count": null,
   "metadata": {},
   "outputs": [],
   "source": [
    "pontos = int(input(\"Digite a quantidade de pontos: \"))\n",
    "jogos = int(input(\"Digite a quantidade de jogos: \"))\n",
    "if pontos >= 70:\n",
    "    if jogos >= 35:\n",
    "        print(\"Será campeão\")\n",
    "    else:\n",
    "        print(\"Poderá ter ser chances de ir para a libertades\")\n",
    "else:\n",
    "    print (\"Não terá chances de jogar a libertadores\")"
   ]
  },
  {
   "cell_type": "code",
   "execution_count": null,
   "metadata": {},
   "outputs": [],
   "source": [
    "pontos = int(input(\"Digite a quantidade de pontos: \"))\n",
    "jogos = int(input(\"Digite a quantidade de jogos: \"))\n",
    "if pontos >= 70:\n",
    "    print(\"Irá ser campeão\")\n",
    "  \n",
    "    \n",
    "elif 60 < pontos < 70:\n",
    "    print(\"Terá Chances de ir para a libertadores\")\n",
    "\n",
    "else:\n",
    "    print(\"Irá para sulamericana\")"
   ]
  },
  {
   "cell_type": "code",
   "execution_count": null,
   "metadata": {},
   "outputs": [],
   "source": [
    "dia_semana = int(input(\"Digite o dia da semana: \"))\n",
    "tipo_festa = int(input(\"Digite o tipo de festa que irá participar\"))\n",
    "\n",
    "if dia_semana == 'sexta feira':\n",
    "    if tipo_festa == 'copa do mundo':\n",
    "        print(\"Convidar os amigos para assistir um jogo!\")\n",
    "    elif tipo_festa == 'aniversário':\n",
    "        print(\"Comer bolo e tomar um refrigerante\")"
   ]
  }
 ],
 "metadata": {
  "language_info": {
   "name": "python"
  }
 },
 "nbformat": 4,
 "nbformat_minor": 2
}
